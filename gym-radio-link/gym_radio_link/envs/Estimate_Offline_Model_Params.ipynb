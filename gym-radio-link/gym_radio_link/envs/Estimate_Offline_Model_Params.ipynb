{
 "cells": [
  {
   "cell_type": "markdown",
   "metadata": {},
   "source": [
    "# Estimate Offline Model Parameters"
   ]
  },
  {
   "cell_type": "markdown",
   "metadata": {},
   "source": [
    "## Import Stuff"
   ]
  },
  {
   "cell_type": "code",
   "execution_count": 21,
   "metadata": {},
   "outputs": [],
   "source": [
    "from mcs_selection_env import MCSSelectionEnv\n",
    "\n",
    "import numpy as np"
   ]
  },
  {
   "cell_type": "markdown",
   "metadata": {},
   "source": [
    "## Create Environment"
   ]
  },
  {
   "cell_type": "code",
   "execution_count": 22,
   "metadata": {},
   "outputs": [],
   "source": [
    "def create_training_dataset(cqi, dataset_size = 100):\n",
    "    # Create environment\n",
    "    env = MCSSelectionEnv(ue_relative_speed = 20)\n",
    "\n",
    "    # Create variables to collect data\n",
    "    ack = []\n",
    "    snr_per_subcarrier = []\n",
    "    \n",
    "    # Collect equal number of ACKs and NACKs for unbiased training\n",
    "    nrof_samples = int(dataset_size / 2)\n",
    "    \n",
    "    seed_value = 0\n",
    "    i = j = 0 # ACK and NACK counter\n",
    "    while( (i < nrof_samples) or (j < nrof_samples) ):\n",
    "        # Update seed and reset env\n",
    "        env.seed(seed_value)\n",
    "        env.reset()\n",
    "        \n",
    "        # Get a data sample\n",
    "        _, _, _, s, _, snrs = env.step(cqi)\n",
    "        \n",
    "        if (s == True) and (i < nrof_samples):\n",
    "            ack.append(s)\n",
    "            snr_per_subcarrier.append(snrs)\n",
    "            \n",
    "            i += 1\n",
    "        elif (s == False) and (j < nrof_samples):\n",
    "            ack.append(s)\n",
    "            snr_per_subcarrier.append(snrs)\n",
    "            \n",
    "            j += 1\n",
    "            \n",
    "        seed_value += 1\n",
    "        \n",
    "    return (np.array(ack, dtype=int), np.array(snr_per_subcarrier))"
   ]
  },
  {
   "cell_type": "markdown",
   "metadata": {},
   "source": [
    "## Create Training Dataset"
   ]
  },
  {
   "cell_type": "code",
   "execution_count": 23,
   "metadata": {},
   "outputs": [
    {
     "name": "stdout",
     "output_type": "stream",
     "text": [
      "CQI: 0\n",
      "CQI: 1\n",
      "CQI: 2\n",
      "CQI: 3\n",
      "CQI: 4\n",
      "CQI: 5\n",
      "CQI: 6\n",
      "CQI: 7\n",
      "CQI: 8\n",
      "CQI: 9\n",
      "CQI: 10\n",
      "CQI: 11\n",
      "CQI: 12\n",
      "CQI: 13\n",
      "CQI: 14\n",
      "CQI: 15\n"
     ]
    }
   ],
   "source": [
    "training_data = {}\n",
    "for cqi in range(16):\n",
    "    print(\"CQI: %d\"%(cqi))\n",
    "    \n",
    "    ack_data, snr_data = create_training_dataset(cqi, 100)\n",
    "    training_data[cqi] = {\"ack\": ack_data, \"snr_per_subcarrier\": snr_data}"
   ]
  },
  {
   "cell_type": "markdown",
   "metadata": {},
   "source": [
    "## Load Offline Model"
   ]
  },
  {
   "cell_type": "code",
   "execution_count": 24,
   "metadata": {},
   "outputs": [],
   "source": [
    "offline_model_datafile = \"src/Offline_Link_Model.npy\"\n",
    "offline_model = np.load( offline_model_datafile, encoding='latin1' )[ ( ) ]"
   ]
  },
  {
   "cell_type": "code",
   "execution_count": 25,
   "metadata": {},
   "outputs": [],
   "source": [
    "snr_vs_bler = offline_model[\"snr_vs_bler\"]\n",
    "snr_range_dB = offline_model[\"snr_range_dB\"]\n",
    "\n",
    "snr_range = 10 ** (snr_range_dB / 0.1)"
   ]
  },
  {
   "cell_type": "markdown",
   "metadata": {},
   "source": [
    "## Estimate Optimal Beta Values"
   ]
  },
  {
   "cell_type": "code",
   "execution_count": 26,
   "metadata": {},
   "outputs": [],
   "source": [
    "def eesm(snr_per_subc, beta): \n",
    "    return (-1.0 * beta) * np.log( np.sum( np.exp( -1.0 * snr_per_subc / beta ) ) / len( snr_per_subc ) )"
   ]
  },
  {
   "cell_type": "code",
   "execution_count": 29,
   "metadata": {
    "scrolled": true
   },
   "outputs": [
    {
     "name": "stderr",
     "output_type": "stream",
     "text": [
      "/home/ubuntu/.local/lib/python3.6/site-packages/ipykernel_launcher.py:2: RuntimeWarning: divide by zero encountered in log\n",
      "  \n"
     ]
    },
    {
     "name": "stdout",
     "output_type": "stream",
     "text": [
      "CQI: 0, Cost: 0.52, Beta: 0.10\n",
      "CQI: 1, Cost: 0.40, Beta: 0.10\n",
      "CQI: 2, Cost: 0.17, Beta: 0.20\n",
      "CQI: 3, Cost: 0.10, Beta: 0.80\n",
      "CQI: 4, Cost: 0.07, Beta: 1.40\n",
      "CQI: 5, Cost: 0.07, Beta: 1.90\n",
      "CQI: 6, Cost: 0.06, Beta: 2.20\n",
      "CQI: 7, Cost: 0.09, Beta: 2.90\n",
      "CQI: 8, Cost: 0.09, Beta: 3.40\n",
      "CQI: 9, Cost: 0.11, Beta: 3.20\n",
      "CQI: 10, Cost: 0.11, Beta: 3.10\n",
      "CQI: 11, Cost: 0.13, Beta: 4.50\n",
      "CQI: 12, Cost: 0.09, Beta: 3.90\n",
      "CQI: 13, Cost: 0.11, Beta: 4.00\n",
      "CQI: 14, Cost: 0.09, Beta: 3.50\n",
      "CQI: 15, Cost: 0.10, Beta: 4.30\n"
     ]
    }
   ],
   "source": [
    "learnt_beta = []\n",
    "for cqi in range( 16 ):\n",
    "    data = training_data[cqi]\n",
    "    \n",
    "    ack = data[\"ack\"]\n",
    "    snr_per_subc = data[\"snr_per_subcarrier\"]\n",
    "    \n",
    "    nrof_samples, _ = snr_per_subc.shape\n",
    "\n",
    "    cost = []\n",
    "    beta_grid = np.arange(0.1, 10, 0.1)\n",
    "    for beta in beta_grid:\n",
    "        awgn_bler = []\n",
    "        for j in range(nrof_samples):\n",
    "            eff_snr = eesm(snr_per_subc[j,:], beta)\n",
    "\n",
    "            high_index = np.argmin( snr_range_dB < eff_snr )\n",
    "            bler_low = snr_vs_bler[ high_index, cqi ]\n",
    "            bler_high = snr_vs_bler[ high_index - 1, cqi ]\n",
    "            \n",
    "            awgn_bler.append( ( ( bler_low + bler_high ) / 2.0 ) )\n",
    "\n",
    "            #print('EESM: %0.2f, ACK: %d, AWGN BLER: %0.2f'%(eff_snr, ack[i], awgn_bler))\n",
    "        \n",
    "        #cross_entropy_loss = -1.0 * np.sum( ack * np.log( np.array( awgn_bler ) + 1e-9 ) \n",
    "        #                                    + ( ( 1 - ack ) * np.log( ( 1.0 - np.array( awgn_bler ) ) + 1e-9 ) ) ) / nrof_samples\n",
    "        \n",
    "        mse_loss = np.mean( ( ( 1 - ack ) - awgn_bler ) ** 2 )\n",
    "        \n",
    "        cost.append( mse_loss )\n",
    "    \n",
    "    #print(cost)\n",
    "    opt_beta = beta_grid[ np.argmin( cost ) ]\n",
    "    print(\"CQI: %d, Cost: %0.2f, Beta: %0.2f\"%(cqi, np.min(cost), opt_beta))\n",
    "    \n",
    "    learnt_beta.append( opt_beta )"
   ]
  },
  {
   "cell_type": "code",
   "execution_count": 30,
   "metadata": {},
   "outputs": [
    {
     "name": "stdout",
     "output_type": "stream",
     "text": [
      "[0.1, 0.1, 0.2, 0.8, 1.4000000000000001, 1.9000000000000001, 2.2, 2.9000000000000004, 3.4000000000000004, 3.2, 3.1, 4.5, 3.9000000000000004, 4.0, 3.5000000000000004, 4.3]\n"
     ]
    }
   ],
   "source": [
    "print(learnt_beta)"
   ]
  },
  {
   "cell_type": "code",
   "execution_count": null,
   "metadata": {},
   "outputs": [],
   "source": []
  }
 ],
 "metadata": {
  "kernelspec": {
   "display_name": "Python 3",
   "language": "python",
   "name": "python3"
  },
  "language_info": {
   "codemirror_mode": {
    "name": "ipython",
    "version": 3
   },
   "file_extension": ".py",
   "mimetype": "text/x-python",
   "name": "python",
   "nbconvert_exporter": "python",
   "pygments_lexer": "ipython3",
   "version": "3.6.7"
  }
 },
 "nbformat": 4,
 "nbformat_minor": 2
}
