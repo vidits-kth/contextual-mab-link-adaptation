{
 "cells": [
  {
   "cell_type": "code",
   "execution_count": null,
   "metadata": {},
   "outputs": [],
   "source": [
    "import numpy as np\n",
    "\n",
    "from matplotlib import pyplot as plt\n",
    "\n",
    "import matplotlib\n",
    "matplotlib.rcParams.update({'font.size': 22})"
   ]
  },
  {
   "cell_type": "code",
   "execution_count": null,
   "metadata": {},
   "outputs": [],
   "source": [
    "sim_dir = '../final_results/'\n",
    "sim_id  = '000001'\n",
    "\n",
    "params = np.load(sim_dir + sim_id  + '/simulation_parameters.npy', allow_pickle=True)[()]\n",
    "\n",
    "cmab_data = np.load(sim_dir + sim_id + '/mab_statistics.npy', allow_pickle=True)[()]\n",
    "olla_data = np.load(sim_dir + sim_id + '/olla_statistics.npy', allow_pickle=True)[()]"
   ]
  },
  {
   "cell_type": "code",
   "execution_count": null,
   "metadata": {},
   "outputs": [],
   "source": [
    "env_name = params['env_name']\n",
    "nrof_tti = params['nrof_tti']\n",
    "nrof_links = params['nrof_links']\n",
    "bler_target = params['olla_bler_target']\n",
    "ann_layout = params[ 'ann_layout' ]\n",
    "\n",
    "print('%s, %d TTI, %d links, %0.2f BLER target'%(env_name, nrof_tti, nrof_links, bler_target))\n",
    "print( 'ANN layout: [%s]'%( ','.join( [ str(a) for a in ann_layout ] ) ) )\n",
    "print( 'Learning rate: %0.6f'%params['learning_rate'])"
   ]
  },
  {
   "cell_type": "code",
   "execution_count": null,
   "metadata": {},
   "outputs": [],
   "source": [
    "def extract_average_cell_metrics( data, nrof_links, interval = 1 ):\n",
    "    tti = data['tti']\n",
    "\n",
    "    avg_tput = []\n",
    "    bler = []\n",
    "    for res in data['result']:\n",
    "        tputs = [res[i][1] for i in range(nrof_links)]\n",
    "        acks = [res[i][3] for i in range(nrof_links)]\n",
    "\n",
    "        avg_tput.append( np.mean(tputs) * 1000.0 / (6.0 * 15000.0))\n",
    "        bler.append(1.0 - np.mean(acks))\n",
    "    \n",
    "    tti      = tti[ 0 : len( tti ) : interval ]\n",
    "    avg_tput = avg_tput[ 0 : len( avg_tput ) : interval ]\n",
    "    bler     = bler[ 0 : len( bler ) : interval ]\n",
    "        \n",
    "    return (tti, avg_tput, bler)"
   ]
  },
  {
   "cell_type": "code",
   "execution_count": null,
   "metadata": {},
   "outputs": [],
   "source": [
    "nrof_total_links = 64*256\n",
    "\n",
    "interval = 5\n",
    "\n",
    "cmab_tti, cmab_avg_tput, cmab_bler = extract_average_cell_metrics( cmab_data, nrof_total_links, interval )\n",
    "olla_tti, olla_avg_tput, olla_bler = extract_average_cell_metrics( olla_data, nrof_total_links, interval )"
   ]
  },
  {
   "cell_type": "code",
   "execution_count": null,
   "metadata": {},
   "outputs": [],
   "source": [
    "matplotlib.rcParams.update({'font.size': 40, 'lines.markersize': 15})\n",
    "cmap = plt.get_cmap(\"tab10\")\n",
    "\n",
    "plt.figure(figsize=[15, 8])\n",
    "\n",
    "ax1 = plt.subplot(111)\n",
    "ax1.grid(True)\n",
    "\n",
    "lw = 4\n",
    "ax1.plot(olla_tti, olla_avg_tput, color=cmap(0), marker='o', linewidth=lw)\n",
    "ax1.plot(cmab_tti, cmab_avg_tput, color=cmap(1), marker='s', linewidth=lw)\n",
    "\n",
    "ax1.set_ylabel('Average Tput [bps / Hz]')\n",
    "\n",
    "ax1.set_ylim([1.5, 3])\n",
    "ax1.set_xlim([0, 100])\n",
    "\n",
    "ax1.set_xlabel('Transmission Time Interval (TTI)')\n",
    "\n",
    "plt.legend(['OLLA', 'CMAB'], loc = 'lower right', fontsize=30)"
   ]
  },
  {
   "cell_type": "code",
   "execution_count": null,
   "metadata": {},
   "outputs": [],
   "source": []
  }
 ],
 "metadata": {
  "kernelspec": {
   "display_name": "Python 3",
   "language": "python",
   "name": "python3"
  },
  "language_info": {
   "codemirror_mode": {
    "name": "ipython",
    "version": 3
   },
   "file_extension": ".py",
   "mimetype": "text/x-python",
   "name": "python",
   "nbconvert_exporter": "python",
   "pygments_lexer": "ipython3",
   "version": "3.6.8"
  }
 },
 "nbformat": 4,
 "nbformat_minor": 2
}
